{
 "cells": [
  {
   "cell_type": "markdown",
   "metadata": {},
   "source": [
    "# San Francisco (SFO) Pulic Department Salary Data Analysis\n",
    "\n",
    "## 1. Business Understanding\n",
    "This analysis tries to answer 4 questions about the San Francisco (SFO) public department salary 2011-2014 dataset:\n",
    "\n",
    "1. How much total salary cost has increased from year 2011 to 2014?\n",
    "2. Who was the top-earning employee across all the years?\n",
    "3. Which job title earned the most across all the years?\n",
    "4. What are the top jobs in terms of job number across all the years?"
   ]
  },
  {
   "cell_type": "markdown",
   "metadata": {},
   "source": [
    "## 2. Data Understanding"
   ]
  },
  {
   "cell_type": "code",
   "execution_count": 2,
   "metadata": {},
   "outputs": [
    {
     "data": {
      "text/html": [
       "<div>\n",
       "<style scoped>\n",
       "    .dataframe tbody tr th:only-of-type {\n",
       "        vertical-align: middle;\n",
       "    }\n",
       "\n",
       "    .dataframe tbody tr th {\n",
       "        vertical-align: top;\n",
       "    }\n",
       "\n",
       "    .dataframe thead th {\n",
       "        text-align: right;\n",
       "    }\n",
       "</style>\n",
       "<table border=\"1\" class=\"dataframe\">\n",
       "  <thead>\n",
       "    <tr style=\"text-align: right;\">\n",
       "      <th></th>\n",
       "      <th>Id</th>\n",
       "      <th>EmployeeName</th>\n",
       "      <th>JobTitle</th>\n",
       "      <th>BasePay</th>\n",
       "      <th>OvertimePay</th>\n",
       "      <th>OtherPay</th>\n",
       "      <th>Benefits</th>\n",
       "      <th>TotalPay</th>\n",
       "      <th>TotalPayBenefits</th>\n",
       "      <th>Year</th>\n",
       "      <th>Notes</th>\n",
       "      <th>Agency</th>\n",
       "      <th>Status</th>\n",
       "    </tr>\n",
       "  </thead>\n",
       "  <tbody>\n",
       "    <tr>\n",
       "      <th>0</th>\n",
       "      <td>1</td>\n",
       "      <td>NATHANIEL FORD</td>\n",
       "      <td>GENERAL MANAGER-METROPOLITAN TRANSIT AUTHORITY</td>\n",
       "      <td>167411.18</td>\n",
       "      <td>0.00</td>\n",
       "      <td>400184.25</td>\n",
       "      <td>NaN</td>\n",
       "      <td>567595.43</td>\n",
       "      <td>567595.43</td>\n",
       "      <td>2011</td>\n",
       "      <td>NaN</td>\n",
       "      <td>San Francisco</td>\n",
       "      <td>NaN</td>\n",
       "    </tr>\n",
       "    <tr>\n",
       "      <th>1</th>\n",
       "      <td>2</td>\n",
       "      <td>GARY JIMENEZ</td>\n",
       "      <td>CAPTAIN III (POLICE DEPARTMENT)</td>\n",
       "      <td>155966.02</td>\n",
       "      <td>245131.88</td>\n",
       "      <td>137811.38</td>\n",
       "      <td>NaN</td>\n",
       "      <td>538909.28</td>\n",
       "      <td>538909.28</td>\n",
       "      <td>2011</td>\n",
       "      <td>NaN</td>\n",
       "      <td>San Francisco</td>\n",
       "      <td>NaN</td>\n",
       "    </tr>\n",
       "    <tr>\n",
       "      <th>2</th>\n",
       "      <td>3</td>\n",
       "      <td>ALBERT PARDINI</td>\n",
       "      <td>CAPTAIN III (POLICE DEPARTMENT)</td>\n",
       "      <td>212739.13</td>\n",
       "      <td>106088.18</td>\n",
       "      <td>16452.60</td>\n",
       "      <td>NaN</td>\n",
       "      <td>335279.91</td>\n",
       "      <td>335279.91</td>\n",
       "      <td>2011</td>\n",
       "      <td>NaN</td>\n",
       "      <td>San Francisco</td>\n",
       "      <td>NaN</td>\n",
       "    </tr>\n",
       "    <tr>\n",
       "      <th>3</th>\n",
       "      <td>4</td>\n",
       "      <td>CHRISTOPHER CHONG</td>\n",
       "      <td>WIRE ROPE CABLE MAINTENANCE MECHANIC</td>\n",
       "      <td>77916.00</td>\n",
       "      <td>56120.71</td>\n",
       "      <td>198306.90</td>\n",
       "      <td>NaN</td>\n",
       "      <td>332343.61</td>\n",
       "      <td>332343.61</td>\n",
       "      <td>2011</td>\n",
       "      <td>NaN</td>\n",
       "      <td>San Francisco</td>\n",
       "      <td>NaN</td>\n",
       "    </tr>\n",
       "    <tr>\n",
       "      <th>4</th>\n",
       "      <td>5</td>\n",
       "      <td>PATRICK GARDNER</td>\n",
       "      <td>DEPUTY CHIEF OF DEPARTMENT,(FIRE DEPARTMENT)</td>\n",
       "      <td>134401.60</td>\n",
       "      <td>9737.00</td>\n",
       "      <td>182234.59</td>\n",
       "      <td>NaN</td>\n",
       "      <td>326373.19</td>\n",
       "      <td>326373.19</td>\n",
       "      <td>2011</td>\n",
       "      <td>NaN</td>\n",
       "      <td>San Francisco</td>\n",
       "      <td>NaN</td>\n",
       "    </tr>\n",
       "  </tbody>\n",
       "</table>\n",
       "</div>"
      ],
      "text/plain": [
       "   Id       EmployeeName                                        JobTitle  \\\n",
       "0   1     NATHANIEL FORD  GENERAL MANAGER-METROPOLITAN TRANSIT AUTHORITY   \n",
       "1   2       GARY JIMENEZ                 CAPTAIN III (POLICE DEPARTMENT)   \n",
       "2   3     ALBERT PARDINI                 CAPTAIN III (POLICE DEPARTMENT)   \n",
       "3   4  CHRISTOPHER CHONG            WIRE ROPE CABLE MAINTENANCE MECHANIC   \n",
       "4   5    PATRICK GARDNER    DEPUTY CHIEF OF DEPARTMENT,(FIRE DEPARTMENT)   \n",
       "\n",
       "     BasePay  OvertimePay   OtherPay  Benefits   TotalPay  TotalPayBenefits  \\\n",
       "0  167411.18         0.00  400184.25       NaN  567595.43         567595.43   \n",
       "1  155966.02    245131.88  137811.38       NaN  538909.28         538909.28   \n",
       "2  212739.13    106088.18   16452.60       NaN  335279.91         335279.91   \n",
       "3   77916.00     56120.71  198306.90       NaN  332343.61         332343.61   \n",
       "4  134401.60      9737.00  182234.59       NaN  326373.19         326373.19   \n",
       "\n",
       "   Year  Notes         Agency Status  \n",
       "0  2011    NaN  San Francisco    NaN  \n",
       "1  2011    NaN  San Francisco    NaN  \n",
       "2  2011    NaN  San Francisco    NaN  \n",
       "3  2011    NaN  San Francisco    NaN  \n",
       "4  2011    NaN  San Francisco    NaN  "
      ]
     },
     "execution_count": 2,
     "metadata": {},
     "output_type": "execute_result"
    }
   ],
   "source": [
    "# Import required library and data .csv file\n",
    "\n",
    "import pandas as pd\n",
    "\n",
    "df = pd.read_csv(\"Salaries.csv\")\n",
    "df.head()"
   ]
  },
  {
   "cell_type": "code",
   "execution_count": 3,
   "metadata": {},
   "outputs": [
    {
     "name": "stdout",
     "output_type": "stream",
     "text": [
      "(148648, 13)\n"
     ]
    }
   ],
   "source": [
    "# Print dataset shape\n",
    "\n",
    "print(df.shape)"
   ]
  },
  {
   "cell_type": "code",
   "execution_count": 49,
   "metadata": {},
   "outputs": [
    {
     "data": {
      "text/html": [
       "<div>\n",
       "<style scoped>\n",
       "    .dataframe tbody tr th:only-of-type {\n",
       "        vertical-align: middle;\n",
       "    }\n",
       "\n",
       "    .dataframe tbody tr th {\n",
       "        vertical-align: top;\n",
       "    }\n",
       "\n",
       "    .dataframe thead th {\n",
       "        text-align: right;\n",
       "    }\n",
       "</style>\n",
       "<table border=\"1\" class=\"dataframe\">\n",
       "  <thead>\n",
       "    <tr style=\"text-align: right;\">\n",
       "      <th></th>\n",
       "      <th>Id</th>\n",
       "      <th>BasePay</th>\n",
       "      <th>OvertimePay</th>\n",
       "      <th>OtherPay</th>\n",
       "      <th>Benefits</th>\n",
       "      <th>TotalPay</th>\n",
       "      <th>TotalPayBenefits</th>\n",
       "      <th>Year</th>\n",
       "      <th>Notes</th>\n",
       "    </tr>\n",
       "  </thead>\n",
       "  <tbody>\n",
       "    <tr>\n",
       "      <th>count</th>\n",
       "      <td>148648.000000</td>\n",
       "      <td>148043.000000</td>\n",
       "      <td>148648.000000</td>\n",
       "      <td>148648.000000</td>\n",
       "      <td>112490.000000</td>\n",
       "      <td>148648.000000</td>\n",
       "      <td>148648.000000</td>\n",
       "      <td>148648.000000</td>\n",
       "      <td>0.0</td>\n",
       "    </tr>\n",
       "    <tr>\n",
       "      <th>mean</th>\n",
       "      <td>74326.110220</td>\n",
       "      <td>66325.398119</td>\n",
       "      <td>5065.821161</td>\n",
       "      <td>3648.761721</td>\n",
       "      <td>25007.777439</td>\n",
       "      <td>74770.035453</td>\n",
       "      <td>93694.776345</td>\n",
       "      <td>2012.522617</td>\n",
       "      <td>NaN</td>\n",
       "    </tr>\n",
       "    <tr>\n",
       "      <th>std</th>\n",
       "      <td>42911.633315</td>\n",
       "      <td>42764.898947</td>\n",
       "      <td>11454.266982</td>\n",
       "      <td>8056.655841</td>\n",
       "      <td>15402.235424</td>\n",
       "      <td>50516.440633</td>\n",
       "      <td>62792.743250</td>\n",
       "      <td>1.117526</td>\n",
       "      <td>NaN</td>\n",
       "    </tr>\n",
       "    <tr>\n",
       "      <th>min</th>\n",
       "      <td>1.000000</td>\n",
       "      <td>-166.010000</td>\n",
       "      <td>-0.010000</td>\n",
       "      <td>-7058.590000</td>\n",
       "      <td>-33.890000</td>\n",
       "      <td>-618.130000</td>\n",
       "      <td>-618.130000</td>\n",
       "      <td>2011.000000</td>\n",
       "      <td>NaN</td>\n",
       "    </tr>\n",
       "    <tr>\n",
       "      <th>25%</th>\n",
       "      <td>37163.750000</td>\n",
       "      <td>33587.350000</td>\n",
       "      <td>0.000000</td>\n",
       "      <td>0.000000</td>\n",
       "      <td>11535.192500</td>\n",
       "      <td>36169.370000</td>\n",
       "      <td>44072.062500</td>\n",
       "      <td>2012.000000</td>\n",
       "      <td>NaN</td>\n",
       "    </tr>\n",
       "    <tr>\n",
       "      <th>50%</th>\n",
       "      <td>74326.500000</td>\n",
       "      <td>65007.450000</td>\n",
       "      <td>0.000000</td>\n",
       "      <td>811.205000</td>\n",
       "      <td>28628.365000</td>\n",
       "      <td>71427.130000</td>\n",
       "      <td>92406.020000</td>\n",
       "      <td>2013.000000</td>\n",
       "      <td>NaN</td>\n",
       "    </tr>\n",
       "    <tr>\n",
       "      <th>75%</th>\n",
       "      <td>111488.250000</td>\n",
       "      <td>94691.050000</td>\n",
       "      <td>4657.597500</td>\n",
       "      <td>4236.035000</td>\n",
       "      <td>35566.790000</td>\n",
       "      <td>105840.920000</td>\n",
       "      <td>132876.997500</td>\n",
       "      <td>2014.000000</td>\n",
       "      <td>NaN</td>\n",
       "    </tr>\n",
       "    <tr>\n",
       "      <th>max</th>\n",
       "      <td>148654.000000</td>\n",
       "      <td>319275.010000</td>\n",
       "      <td>245131.880000</td>\n",
       "      <td>400184.250000</td>\n",
       "      <td>96570.660000</td>\n",
       "      <td>567595.430000</td>\n",
       "      <td>567595.430000</td>\n",
       "      <td>2014.000000</td>\n",
       "      <td>NaN</td>\n",
       "    </tr>\n",
       "  </tbody>\n",
       "</table>\n",
       "</div>"
      ],
      "text/plain": [
       "                  Id        BasePay    OvertimePay       OtherPay  \\\n",
       "count  148648.000000  148043.000000  148648.000000  148648.000000   \n",
       "mean    74326.110220   66325.398119    5065.821161    3648.761721   \n",
       "std     42911.633315   42764.898947   11454.266982    8056.655841   \n",
       "min         1.000000    -166.010000      -0.010000   -7058.590000   \n",
       "25%     37163.750000   33587.350000       0.000000       0.000000   \n",
       "50%     74326.500000   65007.450000       0.000000     811.205000   \n",
       "75%    111488.250000   94691.050000    4657.597500    4236.035000   \n",
       "max    148654.000000  319275.010000  245131.880000  400184.250000   \n",
       "\n",
       "            Benefits       TotalPay  TotalPayBenefits           Year  Notes  \n",
       "count  112490.000000  148648.000000     148648.000000  148648.000000    0.0  \n",
       "mean    25007.777439   74770.035453      93694.776345    2012.522617    NaN  \n",
       "std     15402.235424   50516.440633      62792.743250       1.117526    NaN  \n",
       "min       -33.890000    -618.130000       -618.130000    2011.000000    NaN  \n",
       "25%     11535.192500   36169.370000      44072.062500    2012.000000    NaN  \n",
       "50%     28628.365000   71427.130000      92406.020000    2013.000000    NaN  \n",
       "75%     35566.790000  105840.920000     132876.997500    2014.000000    NaN  \n",
       "max     96570.660000  567595.430000     567595.430000    2014.000000    NaN  "
      ]
     },
     "execution_count": 49,
     "metadata": {},
     "output_type": "execute_result"
    }
   ],
   "source": [
    "# Description of dataset\n",
    "\n",
    "df.describe()"
   ]
  },
  {
   "cell_type": "code",
   "execution_count": 50,
   "metadata": {},
   "outputs": [
    {
     "name": "stdout",
     "output_type": "stream",
     "text": [
      "<class 'pandas.core.frame.DataFrame'>\n",
      "RangeIndex: 148648 entries, 0 to 148647\n",
      "Data columns (total 13 columns):\n",
      "Id                  148648 non-null int64\n",
      "EmployeeName        148648 non-null object\n",
      "JobTitle            148648 non-null object\n",
      "BasePay             148043 non-null float64\n",
      "OvertimePay         148648 non-null float64\n",
      "OtherPay            148648 non-null float64\n",
      "Benefits            112490 non-null float64\n",
      "TotalPay            148648 non-null float64\n",
      "TotalPayBenefits    148648 non-null float64\n",
      "Year                148648 non-null int64\n",
      "Notes               0 non-null float64\n",
      "Agency              148648 non-null object\n",
      "Status              38119 non-null object\n",
      "dtypes: float64(7), int64(2), object(4)\n",
      "memory usage: 14.7+ MB\n"
     ]
    }
   ],
   "source": [
    "# Info of dataset\n",
    "\n",
    "df.info()"
   ]
  },
  {
   "cell_type": "markdown",
   "metadata": {},
   "source": [
    "## 3. Data Preparation\n",
    "Since there is no missing TotalPayBenefits value in the dataset, there is no need to do any data cleaning."
   ]
  },
  {
   "cell_type": "markdown",
   "metadata": {},
   "source": [
    "## 4. Modelling (Optional)\n",
    "There is no modelling involved in this analysis."
   ]
  },
  {
   "cell_type": "markdown",
   "metadata": {},
   "source": [
    "## 5.Evaluation"
   ]
  },
  {
   "cell_type": "code",
   "execution_count": 51,
   "metadata": {},
   "outputs": [
    {
     "data": {
      "text/html": [
       "<div>\n",
       "<style scoped>\n",
       "    .dataframe tbody tr th:only-of-type {\n",
       "        vertical-align: middle;\n",
       "    }\n",
       "\n",
       "    .dataframe tbody tr th {\n",
       "        vertical-align: top;\n",
       "    }\n",
       "\n",
       "    .dataframe thead th {\n",
       "        text-align: right;\n",
       "    }\n",
       "</style>\n",
       "<table border=\"1\" class=\"dataframe\">\n",
       "  <thead>\n",
       "    <tr style=\"text-align: right;\">\n",
       "      <th></th>\n",
       "      <th>Id</th>\n",
       "      <th>BasePay</th>\n",
       "      <th>OvertimePay</th>\n",
       "      <th>OtherPay</th>\n",
       "      <th>Benefits</th>\n",
       "      <th>TotalPay</th>\n",
       "      <th>TotalPayBenefits</th>\n",
       "      <th>Notes</th>\n",
       "    </tr>\n",
       "    <tr>\n",
       "      <th>Year</th>\n",
       "      <th></th>\n",
       "      <th></th>\n",
       "      <th></th>\n",
       "      <th></th>\n",
       "      <th></th>\n",
       "      <th></th>\n",
       "      <th></th>\n",
       "      <th></th>\n",
       "    </tr>\n",
       "  </thead>\n",
       "  <tbody>\n",
       "    <tr>\n",
       "      <th>2011</th>\n",
       "      <td>653740922</td>\n",
       "      <td>2.299508e+09</td>\n",
       "      <td>1.638191e+08</td>\n",
       "      <td>1.307857e+08</td>\n",
       "      <td>0.000000e+00</td>\n",
       "      <td>2.594113e+09</td>\n",
       "      <td>2.594113e+09</td>\n",
       "      <td>0.0</td>\n",
       "    </tr>\n",
       "    <tr>\n",
       "      <th>2012</th>\n",
       "      <td>2005265403</td>\n",
       "      <td>2.405753e+09</td>\n",
       "      <td>1.846650e+08</td>\n",
       "      <td>1.343185e+08</td>\n",
       "      <td>9.720538e+08</td>\n",
       "      <td>2.724736e+09</td>\n",
       "      <td>3.696790e+09</td>\n",
       "      <td>0.0</td>\n",
       "    </tr>\n",
       "    <tr>\n",
       "      <th>2013</th>\n",
       "      <td>3449541971</td>\n",
       "      <td>2.576381e+09</td>\n",
       "      <td>1.986214e+08</td>\n",
       "      <td>1.436538e+08</td>\n",
       "      <td>8.961163e+08</td>\n",
       "      <td>2.918656e+09</td>\n",
       "      <td>3.814772e+09</td>\n",
       "      <td>0.0</td>\n",
       "    </tr>\n",
       "    <tr>\n",
       "      <th>2014</th>\n",
       "      <td>4939879336</td>\n",
       "      <td>2.537369e+09</td>\n",
       "      <td>2.059186e+08</td>\n",
       "      <td>1.336232e+08</td>\n",
       "      <td>9.449548e+08</td>\n",
       "      <td>2.876911e+09</td>\n",
       "      <td>3.821866e+09</td>\n",
       "      <td>0.0</td>\n",
       "    </tr>\n",
       "  </tbody>\n",
       "</table>\n",
       "</div>"
      ],
      "text/plain": [
       "              Id       BasePay   OvertimePay      OtherPay      Benefits  \\\n",
       "Year                                                                       \n",
       "2011   653740922  2.299508e+09  1.638191e+08  1.307857e+08  0.000000e+00   \n",
       "2012  2005265403  2.405753e+09  1.846650e+08  1.343185e+08  9.720538e+08   \n",
       "2013  3449541971  2.576381e+09  1.986214e+08  1.436538e+08  8.961163e+08   \n",
       "2014  4939879336  2.537369e+09  2.059186e+08  1.336232e+08  9.449548e+08   \n",
       "\n",
       "          TotalPay  TotalPayBenefits  Notes  \n",
       "Year                                         \n",
       "2011  2.594113e+09      2.594113e+09    0.0  \n",
       "2012  2.724736e+09      3.696790e+09    0.0  \n",
       "2013  2.918656e+09      3.814772e+09    0.0  \n",
       "2014  2.876911e+09      3.821866e+09    0.0  "
      ]
     },
     "execution_count": 51,
     "metadata": {},
     "output_type": "execute_result"
    }
   ],
   "source": [
    "#1. How much total salary cost has increased from year 2011 to 2014?\n",
    "\n",
    "df.groupby(by=[\"Year\"]).sum()"
   ]
  },
  {
   "cell_type": "code",
   "execution_count": 52,
   "metadata": {},
   "outputs": [
    {
     "name": "stdout",
     "output_type": "stream",
     "text": [
      "1227753000.0\n",
      "47.32843172213392\n"
     ]
    },
    {
     "data": {
      "text/plain": [
       "<matplotlib.axes._subplots.AxesSubplot at 0x23a46d69d68>"
      ]
     },
     "execution_count": 52,
     "metadata": {},
     "output_type": "execute_result"
    },
    {
     "data": {
      "image/png": "[encoded data removed]",
      "text/plain": [
       "<Figure size 432x288 with 1 Axes>"
      ]
     },
     "metadata": {
      "needs_background": "light"
     },
     "output_type": "display_data"
    }
   ],
   "source": [
    "# The TotalPayBenefits difference between 2011 and 2014\n",
    "%matplotlib inline\n",
    "\n",
    "print((3.821866e+09-2.594113e+09)) # The TotalPayBenefits increased by 1,227,753,000.0 dollars from 2011 to 2014\n",
    "print((3.821866e+09-2.594113e+09)/2.594113e+09*100) # The TotalPayBenefits increased 47.3% from 2011 to 2014\n",
    "\n",
    "df.groupby(by=[\"Year\"]).sum()['TotalPayBenefits'].plot()"
   ]
  },
  {
   "cell_type": "code",
   "execution_count": 53,
   "metadata": {},
   "outputs": [],
   "source": [
    "#2. Who was the top-earning employee across all the years?\n",
    "\n",
    "top_earner_index = df.groupby(by=['Year'])['TotalPayBenefits'].idxmax()"
   ]
  },
  {
   "cell_type": "code",
   "execution_count": 61,
   "metadata": {},
   "outputs": [
    {
     "name": "stdout",
     "output_type": "stream",
     "text": [
      "The top earner for 2011 is NATHANIEL FORD, GENERAL MANAGER-METROPOLITAN TRANSIT AUTHORITY, with the total pay and benefits of $567595.43 USD.\n",
      "The top earner for 2012 is Gary Altenberg, Lieutenant, Fire Suppression, with the total pay and benefits of $407274.78 USD.\n",
      "The top earner for 2013 is Gregory P Suhr, Chief of Police, with the total pay and benefits of $425815.28 USD.\n",
      "The top earner for 2014 is David Shinn, Deputy Chief 3, with the total pay and benefits of $510732.68 USD.\n"
     ]
    }
   ],
   "source": [
    "# Print out those top earners for each year\n",
    "\n",
    "import numpy as np\n",
    "\n",
    "count = 0\n",
    "years = np.sort(df.Year.unique())\n",
    "for i in top_earner_index:\n",
    "    year = years[count]\n",
    "    employeeName = df.iloc[i]['EmployeeName']\n",
    "    jobTitle = df.iloc[i]['JobTitle']\n",
    "    totalPayBenefits = df.iloc[i]['TotalPayBenefits']\n",
    "    print(\"The top earner for %d is %s, %s, with the total pay and benefits of $%.2f USD.\" % (year, employeeName, jobTitle, totalPayBenefits))\n",
    "    count +=1"
   ]
  },
  {
   "cell_type": "code",
   "execution_count": 81,
   "metadata": {},
   "outputs": [
    {
     "name": "stdout",
     "output_type": "stream",
     "text": [
      "                                                TotalPayBenefits\n",
      "JobTitle                                                        \n",
      "chief investment officer                           436224.360000\n",
      "chief, fire department                             408865.326667\n",
      "general manager-metropolitan transit authority     399211.275000\n",
      "gen mgr, public trnsp dept                         380696.440000\n",
      "chief of police                                    375797.347500\n",
      "dep dir for investments, ret                       355731.260000\n",
      "adm, sfgh medical center                           347079.706667\n",
      "controller                                         343061.140000\n",
      "asst chf of dept (fire dept)                       342597.550556\n",
      "dept head v                                        340643.507222\n"
     ]
    }
   ],
   "source": [
    "#3. Which job title earned the most across all the years?\n",
    "# Calculate the mean TotalPayBenefits for each of the job titles and print the top-10 earning job titles.\n",
    "\n",
    "# Make job title lowercase\n",
    "df.JobTitle = df.JobTitle.str.lower()\n",
    "\n",
    "# Construct a new dataframe to simplify\n",
    "df_jobtitle_pay = df[['JobTitle', 'TotalPayBenefits']]\n",
    "\n",
    "# Create a pivot table by calculating the mean TotalPayBenefits for each of the job titles\n",
    "pivoted_data = df_jobtitle_pay.pivot_table('TotalPayBenefits', index='JobTitle' , aggfunc=np.mean)\n",
    "\n",
    "# Sort the pivot table data\n",
    "sorted_salaries = pivoted_data.sort_values(by='TotalPayBenefits', ascending= False)\n",
    "\n",
    "# Print the top-10 earning job titles\n",
    "print(sorted_salaries[:10])\n",
    "\n",
    "# Chief investment officer, chief of fire department and general manager of metropolitan transit authority have\n",
    "# the top average earning across all the years."
   ]
  },
  {
   "cell_type": "code",
   "execution_count": 82,
   "metadata": {},
   "outputs": [
    {
     "data": {
      "text/plain": [
       "<matplotlib.axes._subplots.AxesSubplot at 0x23a4747a1d0>"
      ]
     },
     "execution_count": 82,
     "metadata": {},
     "output_type": "execute_result"
    },
    {
     "data": {
      "image/png": "[encoded data removed]",
      "text/plain": [
       "<Figure size 432x288 with 1 Axes>"
      ]
     },
     "metadata": {
      "needs_background": "light"
     },
     "output_type": "display_data"
    }
   ],
   "source": [
    "# Visualize the sorted salaries by job title\n",
    "\n",
    "sorted_salaries[0:10].plot.bar()"
   ]
  },
  {
   "cell_type": "code",
   "execution_count": 84,
   "metadata": {},
   "outputs": [
    {
     "name": "stdout",
     "output_type": "stream",
     "text": [
      "transit operator                9424\n",
      "special nurse                   5791\n",
      "registered nurse                4955\n",
      "custodian                       3214\n",
      "firefighter                     3153\n",
      "recreation leader               2663\n",
      "deputy sheriff                  2618\n",
      "public svc aide-public works    2518\n",
      "police officer 3                2421\n",
      "patient care assistant          1945\n",
      "Name: JobTitle, dtype: int64\n"
     ]
    },
    {
     "data": {
      "text/plain": [
       "<matplotlib.axes._subplots.AxesSubplot at 0x23a449dc080>"
      ]
     },
     "execution_count": 84,
     "metadata": {},
     "output_type": "execute_result"
    },
    {
     "data": {
      "image/png": "[encoded data removed]",
      "text/plain": [
       "<Figure size 432x288 with 1 Axes>"
      ]
     },
     "metadata": {
      "needs_background": "light"
     },
     "output_type": "display_data"
    }
   ],
   "source": [
    "# Find the top number job titles across all the years and visualize\n",
    "\n",
    "print(df.JobTitle.value_counts()[0:10])\n",
    "df.JobTitle.value_counts()[0:10].plot.bar()"
   ]
  },
  {
   "cell_type": "markdown",
   "metadata": {},
   "source": [
    "## 6. Deployment\n",
    "### Conclusion\n",
    "#### 1. The total pay and benefits of SFO public department increased by 1,227,753,000.0 (47.3%) dollars from 2011 to 2014.\n",
    "\n",
    "#### 2. Top earners during 2011–2014 are: \n",
    "\n",
    "The top earner for 2011 is NATHANIEL FORD, GENERAL MANAGER-METROPOLITAN TRANSIT AUTHORITY, with the total pay and benefits of 567595.43 USD dollars.  \n",
    "\n",
    "The top earner for 2012 is Gary Altenberg, Lieutenant, Fire Suppression, with the total pay and benefits of 407274.78 USD dollars.\n",
    "\n",
    "The top earner for 2013 is Gregory P Suhr, Chief of Police, with the total pay and benefits of 425815.28 USD dollars. \n",
    "\n",
    "The top earner for 2014 is David Shinn, Deputy Chief 3, with the total pay and benefits of 510732.68 USD dollars.\n",
    "\n",
    "#### 3. Among all the top 10 earning jobs, the top 3 earning job positions are chief investment officer, chief of fire department, and general manager of metropolitan transit authority, across 2011-2014.\n",
    "\n",
    "#### 4. Transit operator, special & registered nurse, custodian and firefighter are the top 4 job with most job numbers in SFO during 2011–2014, followed by recreation leader, deputy sheriff, public service aide-public workers, police officer, and patient care assistant."
   ]
  },
  {
   "cell_type": "code",
   "execution_count": null,
   "metadata": {},
   "outputs": [],
   "source": []
  }
 ],
 "metadata": {
  "kernelspec": {
   "display_name": "Python 3",
   "language": "python",
   "name": "python3"
  },
  "language_info": {
   "codemirror_mode": {
    "name": "ipython",
    "version": 3
   },
   "file_extension": ".py",
   "mimetype": "text/x-python",
   "name": "python",
   "nbconvert_exporter": "python",
   "pygments_lexer": "ipython3",
   "version": "3.8.8"
  }
 },
 "nbformat": 4,
 "nbformat_minor": 2
}
